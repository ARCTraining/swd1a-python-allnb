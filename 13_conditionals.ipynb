{
 "cells": [
  {
   "cell_type": "code",
   "execution_count": null,
   "metadata": {
    "collapsed": true
   },
   "outputs": [],
   "source": [
    "# Conditionals or IF statements determine whether a block of code\n",
    "# is executed or not."
   ]
  },
  {
   "cell_type": "code",
   "execution_count": 1,
   "metadata": {
    "collapsed": false
   },
   "outputs": [
    {
     "name": "stdout",
     "output_type": "stream",
     "text": [
      "3.54 is large\n",
      "9.22 is large\n"
     ]
    }
   ],
   "source": [
    "masses = [3.54, 2.07, 9.22, 1.86, 1.71]\n",
    "for m in masses:\n",
    "    if m >= 3.0:\n",
    "        print (m, 'is large')"
   ]
  },
  {
   "cell_type": "code",
   "execution_count": 2,
   "metadata": {
    "collapsed": false
   },
   "outputs": [
    {
     "name": "stdout",
     "output_type": "stream",
     "text": [
      "3.54 is large\n",
      "2.07 is small, put it back\n",
      "9.22 is large\n",
      "1.86 is small, put it back\n",
      "1.71 is small, put it back\n"
     ]
    }
   ],
   "source": [
    "#Include a block when the if statement is not true\n",
    "masses = [3.54, 2.07, 9.22, 1.86, 1.71]\n",
    "for m in masses:\n",
    "    if m >= 3.0:\n",
    "        print (m, 'is large')\n",
    "    else: \n",
    "        print (m, 'is small, put it back')"
   ]
  },
  {
   "cell_type": "code",
   "execution_count": 3,
   "metadata": {
    "collapsed": false
   },
   "outputs": [
    {
     "name": "stdout",
     "output_type": "stream",
     "text": [
      "3.54 is large\n",
      "2.07 is small\n",
      "9.22 is HUGE. It probably bites.\n",
      "1.86 is small\n",
      "1.71 is small\n"
     ]
    }
   ],
   "source": [
    "# Add in additional tests\n",
    "masses = [3.54, 2.07, 9.22, 1.86, 1.71]\n",
    "for m in masses:\n",
    "    if m >= 9.0:\n",
    "        print (m, 'is HUGE. It probably bites.')\n",
    "    elif m >= 3.0:\n",
    "        print (m, 'is large')\n",
    "    else:\n",
    "        print (m, 'is small')"
   ]
  },
  {
   "cell_type": "code",
   "execution_count": null,
   "metadata": {
    "collapsed": true
   },
   "outputs": [],
   "source": [
    "# Rules:\n",
    "# Have as few tests as you really need\n",
    "# The order matters. Tests are evaluated in turn\n",
    "# Have the most popular options tested early in the list of tests"
   ]
  },
  {
   "cell_type": "code",
   "execution_count": 4,
   "metadata": {
    "collapsed": false
   },
   "outputs": [
    {
     "name": "stdout",
     "output_type": "stream",
     "text": [
      "3.54 is large\n",
      "2.07 is small\n",
      "9.22 is HUGE. It might bite.\n",
      "1.86 is small\n",
      "1.71 is small\n"
     ]
    }
   ],
   "source": [
    "# Dealing with this the other way round as we have lots of small data:\n",
    "masses = [3.54, 2.07, 9.22, 1.86, 1.71]\n",
    "for animal in masses:\n",
    "    if animal < 3.0:\n",
    "        print (animal, 'is small')\n",
    "    elif animal < 9.0:\n",
    "        print (animal, 'is large')\n",
    "    else:\n",
    "        print (animal, 'is HUGE. It might bite.')"
   ]
  },
  {
   "cell_type": "code",
   "execution_count": 5,
   "metadata": {
    "collapsed": false
   },
   "outputs": [
    {
     "name": "stdout",
     "output_type": "stream",
     "text": [
      "3.54 is large\n",
      "Sample A is large\n",
      "2.07 is small\n",
      "Sample B is small\n",
      "9.22 is HUGE. It might bite.\n",
      "Sample C is HUGE. It might bite.\n",
      "1.86 is small\n",
      "Sample D is small\n",
      "1.71 is small\n",
      "Sample E is small\n"
     ]
    }
   ],
   "source": [
    "masses = [3.54, 2.07, 9.22, 1.86, 1.71]\n",
    "samples = ['Sample A', 'Sample B', 'Sample C', 'Sample D', 'Sample E']\n",
    "counter = 0\n",
    "for animal in masses:\n",
    "    if animal < 3.0:\n",
    "        print (animal, 'is small')\n",
    "        print (samples[counter], 'is small')\n",
    "    elif animal < 9.0:\n",
    "        print (animal, 'is large')\n",
    "        print (samples[counter], 'is large')\n",
    "    else:\n",
    "        print (animal, 'is HUGE. It might bite.')\n",
    "        print (samples[counter], 'is HUGE. It might bite.')\n",
    "        \n",
    "    counter = counter + 1"
   ]
  },
  {
   "cell_type": "markdown",
   "metadata": {},
   "source": [
    "## FUNCTIONS"
   ]
  },
  {
   "cell_type": "code",
   "execution_count": 6,
   "metadata": {
    "collapsed": true
   },
   "outputs": [],
   "source": [
    "# Functions are self contained CHUNKS of code that can re-used in a program\n",
    "# Split programs into lots of functions that we join together\n",
    "# Functions should do a single simple task\n",
    "# Solving problems by taking a complex idea and decomposing it\n",
    "# into a series of simple tasks\n",
    "# A task is solved by a function, probably about 10 lines long"
   ]
  },
  {
   "cell_type": "code",
   "execution_count": 7,
   "metadata": {
    "collapsed": true
   },
   "outputs": [],
   "source": [
    "# Two steps:\n",
    "# DEFINE a function\n",
    "# RUN a function"
   ]
  },
  {
   "cell_type": "code",
   "execution_count": 8,
   "metadata": {
    "collapsed": true
   },
   "outputs": [],
   "source": [
    "def create_date(day, month, year):\n",
    "    joined = str(day) + '/' + str(month) + '/' + str (year)\n",
    "    return (joined)"
   ]
  },
  {
   "cell_type": "code",
   "execution_count": 9,
   "metadata": {
    "collapsed": false
   },
   "outputs": [
    {
     "name": "stdout",
     "output_type": "stream",
     "text": [
      "29/11/2017\n"
     ]
    }
   ],
   "source": [
    "mydate = create_date(29, 11, 2017)\n",
    "print (mydate)"
   ]
  },
  {
   "cell_type": "markdown",
   "metadata": {},
   "source": [
    "In the tutorial: 14-writing-functions:\n",
    "        Try (1) Encapsulation\n",
    "        And (2) Calling by name?\n",
    "        "
   ]
  },
  {
   "cell_type": "code",
   "execution_count": null,
   "metadata": {
    "collapsed": true
   },
   "outputs": [],
   "source": []
  }
 ],
 "metadata": {
  "anaconda-cloud": {},
  "kernelspec": {
   "display_name": "Python [conda root]",
   "language": "python",
   "name": "conda-root-py"
  },
  "language_info": {
   "codemirror_mode": {
    "name": "ipython",
    "version": 3
   },
   "file_extension": ".py",
   "mimetype": "text/x-python",
   "name": "python",
   "nbconvert_exporter": "python",
   "pygments_lexer": "ipython3",
   "version": "3.5.2"
  }
 },
 "nbformat": 4,
 "nbformat_minor": 1
}
