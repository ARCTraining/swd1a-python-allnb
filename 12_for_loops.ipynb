{
 "cells": [
  {
   "cell_type": "markdown",
   "metadata": {},
   "source": [
    "## FOR loops"
   ]
  },
  {
   "cell_type": "code",
   "execution_count": 1,
   "metadata": {
    "collapsed": false
   },
   "outputs": [
    {
     "name": "stdout",
     "output_type": "stream",
     "text": [
      "2\n",
      "3\n",
      "5\n"
     ]
    }
   ],
   "source": [
    "# Use loops to repeat the same operation many times\n",
    "for number in [2, 3, 5]:\n",
    "    print (number)\n",
    "    \n",
    "    \n",
    "# number is the loop variable\n",
    "# [2, 3, 5] is a list (generic term: 'collection')\n",
    "# We iterate over the items in the collection\n",
    "# The FOR line has a : at the end\n",
    "# All lines to be repeated are indented by 4 spaces"
   ]
  },
  {
   "cell_type": "code",
   "execution_count": 2,
   "metadata": {
    "collapsed": false
   },
   "outputs": [
    {
     "ename": "IndentationError",
     "evalue": "expected an indented block (<ipython-input-2-c08f696678df>, line 3)",
     "output_type": "error",
     "traceback": [
      "\u001b[0;36m  File \u001b[0;32m\"<ipython-input-2-c08f696678df>\"\u001b[0;36m, line \u001b[0;32m3\u001b[0m\n\u001b[0;31m    print (number)\u001b[0m\n\u001b[0m        ^\u001b[0m\n\u001b[0;31mIndentationError\u001b[0m\u001b[0;31m:\u001b[0m expected an indented block\n"
     ]
    }
   ],
   "source": [
    "# Without indentation\n",
    "for number in [2, 3, 5]:\n",
    "print (number)"
   ]
  },
  {
   "cell_type": "code",
   "execution_count": 3,
   "metadata": {
    "collapsed": false
   },
   "outputs": [
    {
     "ename": "IndentationError",
     "evalue": "unexpected indent (<ipython-input-3-ec2e6f218a1e>, line 3)",
     "output_type": "error",
     "traceback": [
      "\u001b[0;36m  File \u001b[0;32m\"<ipython-input-3-ec2e6f218a1e>\"\u001b[0;36m, line \u001b[0;32m3\u001b[0m\n\u001b[0;31m    lastname = \"Callaghan\"\u001b[0m\n\u001b[0m    ^\u001b[0m\n\u001b[0;31mIndentationError\u001b[0m\u001b[0;31m:\u001b[0m unexpected indent\n"
     ]
    }
   ],
   "source": [
    "# Indentation matters...\n",
    "firstname = \"Martin\"\n",
    "  lastname = \"Callaghan\""
   ]
  },
  {
   "cell_type": "code",
   "execution_count": null,
   "metadata": {
    "collapsed": true
   },
   "outputs": [],
   "source": [
    "# Loop variable names should be meaningful\n",
    "# 'animal_name' not 'an' "
   ]
  },
  {
   "cell_type": "code",
   "execution_count": 4,
   "metadata": {
    "collapsed": false
   },
   "outputs": [
    {
     "name": "stdout",
     "output_type": "stream",
     "text": [
      "0\n",
      "1\n",
      "2\n",
      "3\n",
      "4\n"
     ]
    }
   ],
   "source": [
    "# Use the 'range' function to create a sequence to iterate over\n",
    "for number in range (0, 5):\n",
    "    print (number)"
   ]
  },
  {
   "cell_type": "code",
   "execution_count": 6,
   "metadata": {
    "collapsed": false
   },
   "outputs": [
    {
     "name": "stdout",
     "output_type": "stream",
     "text": [
      "1\n",
      "4\n",
      "7\n",
      "10\n"
     ]
    }
   ],
   "source": [
    "# To increment in steps other than 1\n",
    "for number in range (1, 11, 3):\n",
    "    print (number)"
   ]
  },
  {
   "cell_type": "code",
   "execution_count": 7,
   "metadata": {
    "collapsed": false
   },
   "outputs": [
    {
     "name": "stdout",
     "output_type": "stream",
     "text": [
      "2.7\n",
      "3.1\n",
      "8.4\n"
     ]
    }
   ],
   "source": [
    "for number in [2.7, 3.1, 8.4]:\n",
    "    print (number)\n",
    "    "
   ]
  },
  {
   "cell_type": "code",
   "execution_count": 10,
   "metadata": {
    "collapsed": false
   },
   "outputs": [
    {
     "name": "stdout",
     "output_type": "stream",
     "text": [
      "2.7\n",
      "Iteration 1\n",
      "5.800000000000001\n",
      "Iteration 2\n",
      "14.200000000000001\n",
      "Iteration 3\n",
      "24.4\n",
      "Iteration 4\n",
      "41.7\n",
      "Iteration 5\n",
      "41.7\n"
     ]
    }
   ],
   "source": [
    "# Accumulators allow us to calculate running totals inside loops\n",
    "total = 0\n",
    "count = 0\n",
    "\n",
    "for number in [2.7, 3.1, 8.4, 10.2, 17.3]:\n",
    "    total = total + number\n",
    "    count = count + 1\n",
    "    print (total)\n",
    "    print ('Iteration', count)\n",
    "    \n",
    "print(total)"
   ]
  },
  {
   "cell_type": "code",
   "execution_count": 11,
   "metadata": {
    "collapsed": false
   },
   "outputs": [
    {
     "name": "stdout",
     "output_type": "stream",
     "text": [
      "[3.1, 10.2, 22.1, 32.7]\n"
     ]
    }
   ],
   "source": [
    "# Looping over (say) every 5th value in a list\n",
    "mylist = [2.7, 3.1, 8.4, 10.2, 17.3, 22.1, 25.5, 32.7, 37.1]\n",
    "sublist = mylist[1 : : 2]\n",
    "print (sublist)"
   ]
  },
  {
   "cell_type": "code",
   "execution_count": 12,
   "metadata": {
    "collapsed": false
   },
   "outputs": [
    {
     "name": "stdout",
     "output_type": "stream",
     "text": [
      "[2.7, 10.2, 25.5]\n"
     ]
    }
   ],
   "source": [
    "sublist2 = mylist [0 : : 3]\n",
    "print (sublist2)"
   ]
  },
  {
   "cell_type": "code",
   "execution_count": 13,
   "metadata": {
    "collapsed": false
   },
   "outputs": [
    {
     "name": "stdout",
     "output_type": "stream",
     "text": [
      "2.7\n",
      "10.2\n",
      "25.5\n"
     ]
    }
   ],
   "source": [
    "for number in mylist[0 : : 3]:\n",
    "    print (number)"
   ]
  },
  {
   "cell_type": "code",
   "execution_count": 17,
   "metadata": {
    "collapsed": false
   },
   "outputs": [
    {
     "name": "stdout",
     "output_type": "stream",
     "text": [
      "M   \n",
      "M\n",
      "a   M\n",
      "aM\n",
      "r   aM\n",
      "raM\n",
      "t   raM\n",
      "traM\n",
      "i   traM\n",
      "itraM\n",
      "n   itraM\n",
      "nitraM\n",
      "nitraM\n"
     ]
    }
   ],
   "source": [
    "# Reversing a string\n",
    "original = \"Martin\"\n",
    "final = \"\"\n",
    "\n",
    "for char in original:\n",
    "    print (char, \" \", final)\n",
    "    final = char + final\n",
    "    print (final)\n",
    "\n",
    "print (final)\n",
    "    "
   ]
  },
  {
   "cell_type": "markdown",
   "metadata": {},
   "source": [
    "### Indentation\n",
    "\n",
    "cumulative += [sum]\n",
    "\n",
    "for number in data:\n",
    "\n",
    "cumulative = []\n",
    "\n",
    "sum += number\n",
    "\n",
    "sum = 0\n",
    "\n",
    "print(cumulative)\n",
    "\n",
    "data = [1,2,2,5]"
   ]
  },
  {
   "cell_type": "code",
   "execution_count": 18,
   "metadata": {
    "collapsed": false
   },
   "outputs": [
    {
     "name": "stdout",
     "output_type": "stream",
     "text": [
      "[1, 3, 5, 10]\n"
     ]
    }
   ],
   "source": [
    "data = [1,2,2,5]\n",
    "sum = 0\n",
    "cumulative = []\n",
    "\n",
    "for number in data:\n",
    "    sum += number # sum = sum + number\n",
    "    cumulative += [sum] # cumulative = cumalative + sum\n",
    "    \n",
    "print(cumulative)"
   ]
  },
  {
   "cell_type": "code",
   "execution_count": 23,
   "metadata": {
    "collapsed": false
   },
   "outputs": [
    {
     "name": "stdout",
     "output_type": "stream",
     "text": [
      "gapminder_gdp_africa.csv :\n",
      " gdpPercap_1952    298.846212\n",
      "gdpPercap_1957    335.997115\n",
      "gdpPercap_1962    355.203227\n",
      "gdpPercap_1967    412.977514\n",
      "gdpPercap_1972    464.099504\n",
      "gdpPercap_1977    502.319733\n",
      "gdpPercap_1982    462.211415\n",
      "gdpPercap_1987    389.876185\n",
      "gdpPercap_1992    410.896824\n",
      "gdpPercap_1997    312.188423\n",
      "gdpPercap_2002    241.165877\n",
      "gdpPercap_2007    277.551859\n",
      "dtype: float64\n",
      "gapminder_gdp_asia.csv :\n",
      " gdpPercap_1952    331.0\n",
      "gdpPercap_1957    350.0\n",
      "gdpPercap_1962    388.0\n",
      "gdpPercap_1967    349.0\n",
      "gdpPercap_1972    357.0\n",
      "gdpPercap_1977    371.0\n",
      "gdpPercap_1982    424.0\n",
      "gdpPercap_1987    385.0\n",
      "gdpPercap_1992    347.0\n",
      "gdpPercap_1997    415.0\n",
      "gdpPercap_2002    611.0\n",
      "gdpPercap_2007    944.0\n",
      "dtype: float64\n"
     ]
    }
   ],
   "source": [
    "# Looping over data sets\n",
    "import pandas\n",
    "for filename in ['gapminder_gdp_africa.csv', 'gapminder_gdp_asia.csv']:\n",
    "    data = pandas.read_csv (filename, index_col='country')\n",
    "    print (filename, ':\\n', data.min())\n"
   ]
  },
  {
   "cell_type": "code",
   "execution_count": 24,
   "metadata": {
    "collapsed": false
   },
   "outputs": [
    {
     "name": "stdout",
     "output_type": "stream",
     "text": [
      "All the csv files in this directory: ['gapminder_all.csv', 'gapminder_gdp_africa.csv', 'gapminder_gdp_americas.csv', 'gapminder_gdp_asia.csv', 'gapminder_gdp_europe.csv', 'gapminder_gdp_oceania.csv']\n"
     ]
    }
   ],
   "source": [
    "# Reading filenames directly from the filesystem\n",
    "# Do some globbing\n",
    "# globbing = matching a set of files with a pattern\n",
    "# Python has a library called glob with a single function glob\n",
    "\n",
    "import glob\n",
    "print ('All the csv files in this directory:', glob.glob ('*.csv'))"
   ]
  },
  {
   "cell_type": "code",
   "execution_count": 27,
   "metadata": {
    "collapsed": false
   },
   "outputs": [
    {
     "name": "stdout",
     "output_type": "stream",
     "text": [
      "gapminder_all.csv 298.8462121\n",
      "gapminder_gdp_africa.csv 298.8462121\n",
      "gapminder_gdp_americas.csv 1397.717137\n",
      "gapminder_gdp_asia.csv 331.0\n",
      "gapminder_gdp_europe.csv 973.5331948\n",
      "gapminder_gdp_oceania.csv 10039.59564\n"
     ]
    }
   ],
   "source": [
    "# Use glob and loops together\n",
    "for filename in glob.glob ('gap*.csv'):\n",
    "    data = pandas.read_csv(filename, index_col='country')\n",
    "    print (filename, data['gdpPercap_1952'].min())"
   ]
  },
  {
   "cell_type": "code",
   "execution_count": 31,
   "metadata": {
    "collapsed": false
   },
   "outputs": [
    {
     "name": "stdout",
     "output_type": "stream",
     "text": [
      "Smallest file has 0 records\n"
     ]
    }
   ],
   "source": [
    "# Number of records in the file that has the fewest records\n",
    "import pandas\n",
    "fewest = 0\n",
    "\n",
    "for filename in glob.glob ('gap*.csv'):\n",
    "    dataframe = pandas.read_csv(filename, index_col='country')\n",
    "    fewest = min(fewest, dataframe.shape[0])\n",
    "    \n",
    "print (\"Smallest file has\", fewest, \"records\")\n"
   ]
  },
  {
   "cell_type": "code",
   "execution_count": null,
   "metadata": {
    "collapsed": true
   },
   "outputs": [],
   "source": []
  }
 ],
 "metadata": {
  "anaconda-cloud": {},
  "kernelspec": {
   "display_name": "Python [conda root]",
   "language": "python",
   "name": "conda-root-py"
  },
  "language_info": {
   "codemirror_mode": {
    "name": "ipython",
    "version": 3
   },
   "file_extension": ".py",
   "mimetype": "text/x-python",
   "name": "python",
   "nbconvert_exporter": "python",
   "pygments_lexer": "ipython3",
   "version": "3.5.2"
  }
 },
 "nbformat": 4,
 "nbformat_minor": 1
}
